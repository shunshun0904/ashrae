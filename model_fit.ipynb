{
 "cells": [
  {
   "cell_type": "code",
   "execution_count": 2,
   "metadata": {},
   "outputs": [],
   "source": [
    "import pandas as pd\n",
    "import numpy as np\n",
    "import matplotlib.pyplot as plt\n",
    "from sklearn.model_selection import train_test_split\n",
    "import lightgbm as lgb\n",
    "from sklearn.metrics import mean_squared_error\n",
    "from sklearn.model_selection import GridSearchCV\n",
    "from sklearn.preprocessing import LabelEncoder"
   ]
  },
  {
   "cell_type": "code",
   "execution_count": 2,
   "metadata": {},
   "outputs": [],
   "source": [
    "train_data = pd.read_csv(\"train_modeling.csv\")\n",
    "valid_data = pd.read_csv(\"valid_modeling.csv\")\n",
    "test_data = pd.read_csv(\"test_modeling.csv\")"
   ]
  },
  {
   "cell_type": "code",
   "execution_count": 3,
   "metadata": {},
   "outputs": [],
   "source": [
    "def convert_type(data):\n",
    "    for c in data.columns:\n",
    "        col_type = data[c].dtype\n",
    "        if col_type == 'object' or col_type.name == 'category':\n",
    "            data[c] = data[c].astype('category')\n",
    "    return data"
   ]
  },
  {
   "cell_type": "code",
   "execution_count": 4,
   "metadata": {},
   "outputs": [],
   "source": [
    "train_data = convert_type(train_data)\n",
    "valid_data = convert_type(valid_data)\n",
    "test_data = convert_type(test_data)"
   ]
  },
  {
   "cell_type": "code",
   "execution_count": 5,
   "metadata": {},
   "outputs": [],
   "source": [
    "x_train = train_data.drop([\"meter_reading\",'Unnamed: 0'], axis=1)\n",
    "y_train = train_data[\"meter_reading\"].values\n",
    "x_val = valid_data.drop([\"meter_reading\",'Unnamed: 0'], axis=1)\n",
    "y_val = valid_data[\"meter_reading\"].values\n",
    "x_test = test_data.drop([\"meter_reading\",'Unnamed: 0'], axis=1)\n",
    "y_test = test_data[\"meter_reading\"].values"
   ]
  },
  {
   "cell_type": "code",
   "execution_count": 12,
   "metadata": {},
   "outputs": [
    {
     "data": {
      "text/plain": [
       "Index(['month', 'day', 'hour', 'building_id', 'meter', 'site_id',\n",
       "       'primary_use', 'square_feet', 'year_built', 'floor_count',\n",
       "       'air_temperature', 'cloud_coverage', 'dew_temperature',\n",
       "       'precip_depth_1_hr', 'sea_level_pressure', 'wind_direction',\n",
       "       'wind_speed'],\n",
       "      dtype='object')"
      ]
     },
     "execution_count": 12,
     "metadata": {},
     "output_type": "execute_result"
    }
   ],
   "source": [
    "x_train.columns"
   ]
  },
  {
   "cell_type": "code",
   "execution_count": 13,
   "metadata": {},
   "outputs": [
    {
     "name": "stderr",
     "output_type": "stream",
     "text": [
      "/Users/shun/anaconda3/lib/python3.6/site-packages/lightgbm/engine.py:102: UserWarning: Found `num_iteration` in params. Will use it instead of argument\n",
      "  warnings.warn(\"Found `{}` in params. Will use it instead of argument\".format(alias))\n",
      "/Users/shun/anaconda3/lib/python3.6/site-packages/lightgbm/basic.py:1042: UserWarning: categorical_feature in Dataset is overridden. New categorical_feature is ['building_id', 'meter', 'primary_use', 'site_id']\n",
      "  warnings.warn('categorical_feature in Dataset is overridden. New categorical_feature is {}'.format(sorted(list(categorical_feature))))\n",
      "/Users/shun/anaconda3/lib/python3.6/site-packages/lightgbm/basic.py:685: UserWarning: categorical_feature in param dict is overridden.\n",
      "  warnings.warn('categorical_feature in param dict is overridden.')\n"
     ]
    },
    {
     "name": "stdout",
     "output_type": "stream",
     "text": [
      "[1]\ttraining's rmse: 303.446\tvalid_1's rmse: 303.77\n",
      "[2]\ttraining's rmse: 273.988\tvalid_1's rmse: 274.291\n",
      "[3]\ttraining's rmse: 247.545\tvalid_1's rmse: 247.818\n",
      "[4]\ttraining's rmse: 223.824\tvalid_1's rmse: 224.079\n",
      "[5]\ttraining's rmse: 202.546\tvalid_1's rmse: 202.773\n",
      "[6]\ttraining's rmse: 183.472\tvalid_1's rmse: 183.685\n",
      "[7]\ttraining's rmse: 166.382\tvalid_1's rmse: 166.584\n",
      "[8]\ttraining's rmse: 151.07\tvalid_1's rmse: 151.258\n",
      "[9]\ttraining's rmse: 137.378\tvalid_1's rmse: 137.561\n",
      "[10]\ttraining's rmse: 125.156\tvalid_1's rmse: 125.328\n",
      "[11]\ttraining's rmse: 114.209\tvalid_1's rmse: 114.368\n",
      "[12]\ttraining's rmse: 104.464\tvalid_1's rmse: 104.624\n",
      "[13]\ttraining's rmse: 95.7966\tvalid_1's rmse: 95.9487\n",
      "[14]\ttraining's rmse: 88.092\tvalid_1's rmse: 88.2406\n",
      "[15]\ttraining's rmse: 81.2616\tvalid_1's rmse: 81.4092\n",
      "[16]\ttraining's rmse: 75.1892\tvalid_1's rmse: 75.3427\n",
      "[17]\ttraining's rmse: 69.839\tvalid_1's rmse: 69.9905\n",
      "[18]\ttraining's rmse: 65.1058\tvalid_1's rmse: 65.2604\n",
      "[19]\ttraining's rmse: 60.9249\tvalid_1's rmse: 61.08\n",
      "[20]\ttraining's rmse: 57.2666\tvalid_1's rmse: 57.4292\n",
      "[21]\ttraining's rmse: 54.0532\tvalid_1's rmse: 54.2228\n",
      "[22]\ttraining's rmse: 51.2413\tvalid_1's rmse: 51.415\n",
      "[23]\ttraining's rmse: 48.7992\tvalid_1's rmse: 48.9809\n",
      "[24]\ttraining's rmse: 46.6423\tvalid_1's rmse: 46.8313\n",
      "[25]\ttraining's rmse: 44.7569\tvalid_1's rmse: 44.9505\n",
      "[26]\ttraining's rmse: 43.0888\tvalid_1's rmse: 43.2895\n",
      "[27]\ttraining's rmse: 41.6466\tvalid_1's rmse: 41.8523\n",
      "[28]\ttraining's rmse: 40.3242\tvalid_1's rmse: 40.5322\n",
      "[29]\ttraining's rmse: 39.1601\tvalid_1's rmse: 39.3716\n",
      "[30]\ttraining's rmse: 38.0756\tvalid_1's rmse: 38.2911\n",
      "[31]\ttraining's rmse: 37.1408\tvalid_1's rmse: 37.36\n",
      "[32]\ttraining's rmse: 36.2897\tvalid_1's rmse: 36.5199\n",
      "[33]\ttraining's rmse: 35.5594\tvalid_1's rmse: 35.7971\n",
      "[34]\ttraining's rmse: 34.9059\tvalid_1's rmse: 35.1451\n",
      "[35]\ttraining's rmse: 34.2125\tvalid_1's rmse: 34.4581\n",
      "[36]\ttraining's rmse: 33.6557\tvalid_1's rmse: 33.9032\n",
      "[37]\ttraining's rmse: 33.1619\tvalid_1's rmse: 33.416\n",
      "[38]\ttraining's rmse: 32.6613\tvalid_1's rmse: 32.9135\n",
      "[39]\ttraining's rmse: 32.1675\tvalid_1's rmse: 32.4296\n",
      "[40]\ttraining's rmse: 31.7166\tvalid_1's rmse: 31.9888\n",
      "[41]\ttraining's rmse: 31.3338\tvalid_1's rmse: 31.6091\n",
      "[42]\ttraining's rmse: 30.9881\tvalid_1's rmse: 31.2679\n",
      "[43]\ttraining's rmse: 30.6564\tvalid_1's rmse: 30.9348\n",
      "[44]\ttraining's rmse: 30.3211\tvalid_1's rmse: 30.6001\n",
      "[45]\ttraining's rmse: 30.0046\tvalid_1's rmse: 30.2847\n",
      "[46]\ttraining's rmse: 29.7051\tvalid_1's rmse: 29.9924\n",
      "[47]\ttraining's rmse: 29.3727\tvalid_1's rmse: 29.6662\n",
      "[48]\ttraining's rmse: 29.0865\tvalid_1's rmse: 29.3802\n",
      "[49]\ttraining's rmse: 28.7905\tvalid_1's rmse: 29.0869\n",
      "[50]\ttraining's rmse: 28.53\tvalid_1's rmse: 28.8337\n",
      "[51]\ttraining's rmse: 28.2566\tvalid_1's rmse: 28.5596\n",
      "[52]\ttraining's rmse: 27.9683\tvalid_1's rmse: 28.2776\n",
      "[53]\ttraining's rmse: 27.7361\tvalid_1's rmse: 28.0479\n",
      "[54]\ttraining's rmse: 27.5033\tvalid_1's rmse: 27.8226\n",
      "[55]\ttraining's rmse: 27.2897\tvalid_1's rmse: 27.6147\n",
      "[56]\ttraining's rmse: 27.0428\tvalid_1's rmse: 27.3703\n",
      "[57]\ttraining's rmse: 26.8195\tvalid_1's rmse: 27.1457\n",
      "[58]\ttraining's rmse: 26.5975\tvalid_1's rmse: 26.9271\n",
      "[59]\ttraining's rmse: 26.369\tvalid_1's rmse: 26.704\n",
      "[60]\ttraining's rmse: 26.153\tvalid_1's rmse: 26.4907\n",
      "[61]\ttraining's rmse: 25.9529\tvalid_1's rmse: 26.293\n",
      "[62]\ttraining's rmse: 25.7552\tvalid_1's rmse: 26.0975\n",
      "[63]\ttraining's rmse: 25.5818\tvalid_1's rmse: 25.9269\n",
      "[64]\ttraining's rmse: 25.414\tvalid_1's rmse: 25.7623\n",
      "[65]\ttraining's rmse: 25.2545\tvalid_1's rmse: 25.6055\n",
      "[66]\ttraining's rmse: 25.0631\tvalid_1's rmse: 25.4151\n",
      "[67]\ttraining's rmse: 24.878\tvalid_1's rmse: 25.2331\n",
      "[68]\ttraining's rmse: 24.7056\tvalid_1's rmse: 25.0629\n",
      "[69]\ttraining's rmse: 24.5308\tvalid_1's rmse: 24.893\n",
      "[70]\ttraining's rmse: 24.361\tvalid_1's rmse: 24.7235\n",
      "[71]\ttraining's rmse: 24.2081\tvalid_1's rmse: 24.5735\n",
      "[72]\ttraining's rmse: 24.0772\tvalid_1's rmse: 24.4445\n",
      "[73]\ttraining's rmse: 23.9315\tvalid_1's rmse: 24.2994\n",
      "[74]\ttraining's rmse: 23.7937\tvalid_1's rmse: 24.1633\n",
      "[75]\ttraining's rmse: 23.6609\tvalid_1's rmse: 24.0306\n",
      "[76]\ttraining's rmse: 23.486\tvalid_1's rmse: 23.8549\n",
      "[77]\ttraining's rmse: 23.3561\tvalid_1's rmse: 23.7263\n",
      "[78]\ttraining's rmse: 23.2285\tvalid_1's rmse: 23.5975\n",
      "[79]\ttraining's rmse: 23.0867\tvalid_1's rmse: 23.4541\n",
      "[80]\ttraining's rmse: 22.9726\tvalid_1's rmse: 23.3399\n",
      "[81]\ttraining's rmse: 22.8588\tvalid_1's rmse: 23.2303\n",
      "[82]\ttraining's rmse: 22.7429\tvalid_1's rmse: 23.1143\n",
      "[83]\ttraining's rmse: 22.5884\tvalid_1's rmse: 22.9634\n",
      "[84]\ttraining's rmse: 22.4582\tvalid_1's rmse: 22.8352\n",
      "[85]\ttraining's rmse: 22.3657\tvalid_1's rmse: 22.7436\n",
      "[86]\ttraining's rmse: 22.2631\tvalid_1's rmse: 22.641\n",
      "[87]\ttraining's rmse: 22.1268\tvalid_1's rmse: 22.5053\n",
      "[88]\ttraining's rmse: 21.9814\tvalid_1's rmse: 22.3597\n",
      "[89]\ttraining's rmse: 21.8767\tvalid_1's rmse: 22.2567\n",
      "[90]\ttraining's rmse: 21.7775\tvalid_1's rmse: 22.1592\n",
      "[91]\ttraining's rmse: 21.6702\tvalid_1's rmse: 22.0521\n",
      "[92]\ttraining's rmse: 21.6054\tvalid_1's rmse: 21.9888\n",
      "[93]\ttraining's rmse: 21.5263\tvalid_1's rmse: 21.9118\n",
      "[94]\ttraining's rmse: 21.4385\tvalid_1's rmse: 21.8218\n",
      "[95]\ttraining's rmse: 21.3207\tvalid_1's rmse: 21.706\n",
      "[96]\ttraining's rmse: 21.2212\tvalid_1's rmse: 21.6106\n",
      "[97]\ttraining's rmse: 21.1234\tvalid_1's rmse: 21.5147\n",
      "[98]\ttraining's rmse: 21.0146\tvalid_1's rmse: 21.4076\n",
      "[99]\ttraining's rmse: 20.9466\tvalid_1's rmse: 21.3395\n",
      "[100]\ttraining's rmse: 20.865\tvalid_1's rmse: 21.2586\n"
     ]
    },
    {
     "data": {
      "text/plain": [
       "\"\\ngbm.fit(x_train, y_train,\\n        eval_set=[(x_val, y_val)],\\n        eval_metric='rmsle')\\n\""
      ]
     },
     "execution_count": 13,
     "metadata": {},
     "output_type": "execute_result"
    }
   ],
   "source": [
    "gbm = lgb.LGBMRegressor(num_leaves=1000,\n",
    "                        learning_rate=0.1,\n",
    "                        n_estimators=100,\n",
    "                        num_iteration=100,\n",
    "                        verbose=0)\n",
    "\n",
    "def rmsle(y_true, y_pred):\n",
    "    return 'RMSLE', np.sqrt(np.mean(np.power(np.log1p(y_pred) - np.log1p(y_true), 2)))\n",
    "\n",
    "lgb_train = lgb.Dataset(x_train, y_train)\n",
    "lgb_eval = lgb.Dataset(x_val, y_val, reference=lgb_train)\n",
    "\n",
    "# LightGBM のハイパーパラメータ\n",
    "lgbm_params = {\n",
    "    # 回帰問題\n",
    "    'objective': 'regression',\n",
    "    # RMSE (平均二乗誤差平方根) の最小化を目指す\n",
    "    'metric': 'rmse',\n",
    "    \"num_leaves\":1000,\n",
    "    \"learning_rate\": 0.1,\n",
    "    \"num_iteration\": 100,\n",
    "    \"n_estimators\": 100,\n",
    "    'verbose': 0\n",
    "}\n",
    "\n",
    "# 上記のパラメータでモデルを学習する\n",
    "model = lgb.train(lgbm_params, lgb_train, valid_sets=[lgb_train, lgb_eval],categorical_feature=['building_id', 'meter', 'site_id','primary_use'])\n",
    "\n",
    "'''\n",
    "gbm.fit(x_train, y_train,\n",
    "        eval_set=[(x_val, y_val)],\n",
    "        eval_metric='rmsle')\n",
    "'''"
   ]
  },
  {
   "cell_type": "code",
   "execution_count": 14,
   "metadata": {},
   "outputs": [],
   "source": [
    "y_pred = model.predict(x_test)"
   ]
  },
  {
   "cell_type": "code",
   "execution_count": 15,
   "metadata": {},
   "outputs": [
    {
     "name": "stderr",
     "output_type": "stream",
     "text": [
      "/Users/shun/anaconda3/lib/python3.6/site-packages/ipykernel_launcher.py:8: RuntimeWarning: invalid value encountered in log1p\n",
      "  \n"
     ]
    },
    {
     "data": {
      "text/plain": [
       "('RMSLE', nan)"
      ]
     },
     "execution_count": 15,
     "metadata": {},
     "output_type": "execute_result"
    }
   ],
   "source": [
    "rmsle(y_test, y_pred)"
   ]
  },
  {
   "cell_type": "markdown",
   "metadata": {},
   "source": [
    "## 予測値と真値の分布を確認"
   ]
  },
  {
   "cell_type": "code",
   "execution_count": 16,
   "metadata": {},
   "outputs": [
    {
     "data": {
      "image/png": "[encoded data removed]",
      "text/plain": [
       "<matplotlib.figure.Figure at 0x1a87b78ac8>"
      ]
     },
     "metadata": {},
     "output_type": "display_data"
    }
   ],
   "source": [
    "plt.hist(y_pred,bins=50, range=(0,2000), alpha=0.3 , color=\"b\", label=\"predict\")\n",
    "plt.hist(y_test,bins=50, range=(0,2000), alpha=0.3 , color=\"r\", label=\"true\")\n",
    "plt.legend()\n",
    "plt.show()"
   ]
  },
  {
   "cell_type": "markdown",
   "metadata": {},
   "source": [
    "## 予実プロットを確認"
   ]
  },
  {
   "cell_type": "code",
   "execution_count": 17,
   "metadata": {},
   "outputs": [
    {
     "data": {
      "image/png": "[encoded data removed]",
      "text/plain": [
       "<matplotlib.figure.Figure at 0x1c6d996550>"
      ]
     },
     "metadata": {},
     "output_type": "display_data"
    }
   ],
   "source": [
    "plt.figure(figsize=(5, 5)) \n",
    "plt.plot(y_pred, y_pred, label=\"y=x\", color=\"black\")\n",
    "plt.scatter(y_pred, y_test)\n",
    "plt.legend()\n",
    "plt.xlim(0,7000)\n",
    "plt.ylim(0,7000)\n",
    "plt.xlabel(\"predict_meter\")\n",
    "plt.ylabel(\"true_meter\")\n",
    "plt.show()"
   ]
  },
  {
   "cell_type": "code",
   "execution_count": 18,
   "metadata": {},
   "outputs": [],
   "source": [
    "importance = pd.DataFrame(model.feature_importance(), index=x_train.columns, columns=['importance'])\\\n",
    "                        .sort_values(ascending=False, by=\"importance\")"
   ]
  },
  {
   "cell_type": "code",
   "execution_count": 19,
   "metadata": {},
   "outputs": [
    {
     "data": {
      "text/html": [
       "<div>\n",
       "<style scoped>\n",
       "    .dataframe tbody tr th:only-of-type {\n",
       "        vertical-align: middle;\n",
       "    }\n",
       "\n",
       "    .dataframe tbody tr th {\n",
       "        vertical-align: top;\n",
       "    }\n",
       "\n",
       "    .dataframe thead th {\n",
       "        text-align: right;\n",
       "    }\n",
       "</style>\n",
       "<table border=\"1\" class=\"dataframe\">\n",
       "  <thead>\n",
       "    <tr style=\"text-align: right;\">\n",
       "      <th></th>\n",
       "      <th>importance</th>\n",
       "    </tr>\n",
       "  </thead>\n",
       "  <tbody>\n",
       "    <tr>\n",
       "      <th>building_id</th>\n",
       "      <td>18833</td>\n",
       "    </tr>\n",
       "    <tr>\n",
       "      <th>day</th>\n",
       "      <td>16431</td>\n",
       "    </tr>\n",
       "    <tr>\n",
       "      <th>hour</th>\n",
       "      <td>12364</td>\n",
       "    </tr>\n",
       "    <tr>\n",
       "      <th>sea_level_pressure</th>\n",
       "      <td>9041</td>\n",
       "    </tr>\n",
       "    <tr>\n",
       "      <th>dew_temperature</th>\n",
       "      <td>7855</td>\n",
       "    </tr>\n",
       "    <tr>\n",
       "      <th>air_temperature</th>\n",
       "      <td>7784</td>\n",
       "    </tr>\n",
       "    <tr>\n",
       "      <th>square_feet</th>\n",
       "      <td>7235</td>\n",
       "    </tr>\n",
       "    <tr>\n",
       "      <th>month</th>\n",
       "      <td>5253</td>\n",
       "    </tr>\n",
       "    <tr>\n",
       "      <th>wind_direction</th>\n",
       "      <td>3836</td>\n",
       "    </tr>\n",
       "    <tr>\n",
       "      <th>meter</th>\n",
       "      <td>3258</td>\n",
       "    </tr>\n",
       "    <tr>\n",
       "      <th>wind_speed</th>\n",
       "      <td>2541</td>\n",
       "    </tr>\n",
       "    <tr>\n",
       "      <th>year_built</th>\n",
       "      <td>2526</td>\n",
       "    </tr>\n",
       "    <tr>\n",
       "      <th>cloud_coverage</th>\n",
       "      <td>2280</td>\n",
       "    </tr>\n",
       "    <tr>\n",
       "      <th>precip_depth_1_hr</th>\n",
       "      <td>394</td>\n",
       "    </tr>\n",
       "    <tr>\n",
       "      <th>floor_count</th>\n",
       "      <td>147</td>\n",
       "    </tr>\n",
       "    <tr>\n",
       "      <th>primary_use</th>\n",
       "      <td>81</td>\n",
       "    </tr>\n",
       "    <tr>\n",
       "      <th>site_id</th>\n",
       "      <td>41</td>\n",
       "    </tr>\n",
       "  </tbody>\n",
       "</table>\n",
       "</div>"
      ],
      "text/plain": [
       "                    importance\n",
       "building_id              18833\n",
       "day                      16431\n",
       "hour                     12364\n",
       "sea_level_pressure        9041\n",
       "dew_temperature           7855\n",
       "air_temperature           7784\n",
       "square_feet               7235\n",
       "month                     5253\n",
       "wind_direction            3836\n",
       "meter                     3258\n",
       "wind_speed                2541\n",
       "year_built                2526\n",
       "cloud_coverage            2280\n",
       "precip_depth_1_hr          394\n",
       "floor_count                147\n",
       "primary_use                 81\n",
       "site_id                     41"
      ]
     },
     "execution_count": 19,
     "metadata": {},
     "output_type": "execute_result"
    }
   ],
   "source": [
    "importance"
   ]
  },
  {
   "cell_type": "code",
   "execution_count": 27,
   "metadata": {},
   "outputs": [],
   "source": [
    "submit_data = pd.read_csv(\"submit_test.csv\")\n",
    "submit_data_drop = submit_data.drop('Unnamed: 0', axis=1)\n",
    "submit_data_drop = submit_data_drop.drop('row_id', axis=1)"
   ]
  },
  {
   "cell_type": "code",
   "execution_count": 4,
   "metadata": {},
   "outputs": [],
   "source": [
    "sample_submit = pd.read_csv(\"sample_submission.csv\")"
   ]
  },
  {
   "cell_type": "code",
   "execution_count": 5,
   "metadata": {},
   "outputs": [
    {
     "data": {
      "text/plain": [
       "row_id           41697600\n",
       "meter_reading           1\n",
       "dtype: int64"
      ]
     },
     "execution_count": 5,
     "metadata": {},
     "output_type": "execute_result"
    }
   ],
   "source": [
    "sample_submit.nunique()"
   ]
  },
  {
   "cell_type": "code",
   "execution_count": 28,
   "metadata": {},
   "outputs": [],
   "source": [
    "#df.loc[df['A'] < 0, 'A'] = -100\n",
    "submit_data_drop.loc[submit_data_drop[\"primary_use\"]==\"Services\", \"primary_use\"]=\"Public services\""
   ]
  },
  {
   "cell_type": "code",
   "execution_count": 29,
   "metadata": {},
   "outputs": [
    {
     "data": {
      "text/plain": [
       "set()"
      ]
     },
     "execution_count": 29,
     "metadata": {},
     "output_type": "execute_result"
    }
   ],
   "source": [
    "set(list(submit_data_drop[\"primary_use\"].unique()))-set(list(x_train[\"primary_use\"].unique()))"
   ]
  },
  {
   "cell_type": "code",
   "execution_count": 30,
   "metadata": {},
   "outputs": [
    {
     "ename": "ValueError",
     "evalue": "train and valid dataset categorical_feature do not match.",
     "output_type": "error",
     "traceback": [
      "\u001b[0;31m---------------------------------------------------------------------------\u001b[0m",
      "\u001b[0;31mValueError\u001b[0m                                Traceback (most recent call last)",
      "\u001b[0;32m<ipython-input-30-6417b86b3d24>\u001b[0m in \u001b[0;36m<module>\u001b[0;34m()\u001b[0m\n\u001b[0;32m----> 1\u001b[0;31m \u001b[0my_pred_submit\u001b[0m \u001b[0;34m=\u001b[0m \u001b[0mmodel\u001b[0m\u001b[0;34m.\u001b[0m\u001b[0mpredict\u001b[0m\u001b[0;34m(\u001b[0m\u001b[0msubmit_data_drop\u001b[0m\u001b[0;34m)\u001b[0m\u001b[0;34m\u001b[0m\u001b[0m\n\u001b[0m",
      "\u001b[0;32m~/anaconda3/lib/python3.6/site-packages/lightgbm/basic.py\u001b[0m in \u001b[0;36mpredict\u001b[0;34m(self, data, num_iteration, raw_score, pred_leaf, pred_contrib, data_has_header, is_reshape, pred_parameter, **kwargs)\u001b[0m\n\u001b[1;32m   1800\u001b[0m         \u001b[0;32mif\u001b[0m \u001b[0mnum_iteration\u001b[0m \u001b[0;34m<=\u001b[0m \u001b[0;36m0\u001b[0m\u001b[0;34m:\u001b[0m\u001b[0;34m\u001b[0m\u001b[0m\n\u001b[1;32m   1801\u001b[0m             \u001b[0mnum_iteration\u001b[0m \u001b[0;34m=\u001b[0m \u001b[0mself\u001b[0m\u001b[0;34m.\u001b[0m\u001b[0mbest_iteration\u001b[0m\u001b[0;34m\u001b[0m\u001b[0m\n\u001b[0;32m-> 1802\u001b[0;31m         \u001b[0;32mreturn\u001b[0m \u001b[0mpredictor\u001b[0m\u001b[0;34m.\u001b[0m\u001b[0mpredict\u001b[0m\u001b[0;34m(\u001b[0m\u001b[0mdata\u001b[0m\u001b[0;34m,\u001b[0m \u001b[0mnum_iteration\u001b[0m\u001b[0;34m,\u001b[0m \u001b[0mraw_score\u001b[0m\u001b[0;34m,\u001b[0m \u001b[0mpred_leaf\u001b[0m\u001b[0;34m,\u001b[0m \u001b[0mpred_contrib\u001b[0m\u001b[0;34m,\u001b[0m \u001b[0mdata_has_header\u001b[0m\u001b[0;34m,\u001b[0m \u001b[0mis_reshape\u001b[0m\u001b[0;34m)\u001b[0m\u001b[0;34m\u001b[0m\u001b[0m\n\u001b[0m\u001b[1;32m   1803\u001b[0m \u001b[0;34m\u001b[0m\u001b[0m\n\u001b[1;32m   1804\u001b[0m     \u001b[0;32mdef\u001b[0m \u001b[0mget_leaf_output\u001b[0m\u001b[0;34m(\u001b[0m\u001b[0mself\u001b[0m\u001b[0;34m,\u001b[0m \u001b[0mtree_id\u001b[0m\u001b[0;34m,\u001b[0m \u001b[0mleaf_id\u001b[0m\u001b[0;34m)\u001b[0m\u001b[0;34m:\u001b[0m\u001b[0;34m\u001b[0m\u001b[0m\n",
      "\u001b[0;32m~/anaconda3/lib/python3.6/site-packages/lightgbm/basic.py\u001b[0m in \u001b[0;36mpredict\u001b[0;34m(self, data, num_iteration, raw_score, pred_leaf, pred_contrib, data_has_header, is_reshape)\u001b[0m\n\u001b[1;32m    404\u001b[0m         \u001b[0;32mif\u001b[0m \u001b[0misinstance\u001b[0m\u001b[0;34m(\u001b[0m\u001b[0mdata\u001b[0m\u001b[0;34m,\u001b[0m \u001b[0mDataset\u001b[0m\u001b[0;34m)\u001b[0m\u001b[0;34m:\u001b[0m\u001b[0;34m\u001b[0m\u001b[0m\n\u001b[1;32m    405\u001b[0m             \u001b[0;32mraise\u001b[0m \u001b[0mTypeError\u001b[0m\u001b[0;34m(\u001b[0m\u001b[0;34m\"Cannot use Dataset instance for prediction, please use raw data instead\"\u001b[0m\u001b[0;34m)\u001b[0m\u001b[0;34m\u001b[0m\u001b[0m\n\u001b[0;32m--> 406\u001b[0;31m         \u001b[0mdata\u001b[0m \u001b[0;34m=\u001b[0m \u001b[0m_data_from_pandas\u001b[0m\u001b[0;34m(\u001b[0m\u001b[0mdata\u001b[0m\u001b[0;34m,\u001b[0m \u001b[0;32mNone\u001b[0m\u001b[0;34m,\u001b[0m \u001b[0;32mNone\u001b[0m\u001b[0;34m,\u001b[0m \u001b[0mself\u001b[0m\u001b[0;34m.\u001b[0m\u001b[0mpandas_categorical\u001b[0m\u001b[0;34m)\u001b[0m\u001b[0;34m[\u001b[0m\u001b[0;36m0\u001b[0m\u001b[0;34m]\u001b[0m\u001b[0;34m\u001b[0m\u001b[0m\n\u001b[0m\u001b[1;32m    407\u001b[0m         \u001b[0mpredict_type\u001b[0m \u001b[0;34m=\u001b[0m \u001b[0mC_API_PREDICT_NORMAL\u001b[0m\u001b[0;34m\u001b[0m\u001b[0m\n\u001b[1;32m    408\u001b[0m         \u001b[0;32mif\u001b[0m \u001b[0mraw_score\u001b[0m\u001b[0;34m:\u001b[0m\u001b[0;34m\u001b[0m\u001b[0m\n",
      "\u001b[0;32m~/anaconda3/lib/python3.6/site-packages/lightgbm/basic.py\u001b[0m in \u001b[0;36m_data_from_pandas\u001b[0;34m(data, feature_name, categorical_feature, pandas_categorical)\u001b[0m\n\u001b[1;32m    249\u001b[0m         \u001b[0;32melse\u001b[0m\u001b[0;34m:\u001b[0m\u001b[0;34m\u001b[0m\u001b[0m\n\u001b[1;32m    250\u001b[0m             \u001b[0;32mif\u001b[0m \u001b[0mlen\u001b[0m\u001b[0;34m(\u001b[0m\u001b[0mcat_cols\u001b[0m\u001b[0;34m)\u001b[0m \u001b[0;34m!=\u001b[0m \u001b[0mlen\u001b[0m\u001b[0;34m(\u001b[0m\u001b[0mpandas_categorical\u001b[0m\u001b[0;34m)\u001b[0m\u001b[0;34m:\u001b[0m\u001b[0;34m\u001b[0m\u001b[0m\n\u001b[0;32m--> 251\u001b[0;31m                 \u001b[0;32mraise\u001b[0m \u001b[0mValueError\u001b[0m\u001b[0;34m(\u001b[0m\u001b[0;34m'train and valid dataset categorical_feature do not match.'\u001b[0m\u001b[0;34m)\u001b[0m\u001b[0;34m\u001b[0m\u001b[0m\n\u001b[0m\u001b[1;32m    252\u001b[0m             \u001b[0;32mfor\u001b[0m \u001b[0mcol\u001b[0m\u001b[0;34m,\u001b[0m \u001b[0mcategory\u001b[0m \u001b[0;32min\u001b[0m \u001b[0mzip\u001b[0m\u001b[0;34m(\u001b[0m\u001b[0mcat_cols\u001b[0m\u001b[0;34m,\u001b[0m \u001b[0mpandas_categorical\u001b[0m\u001b[0;34m)\u001b[0m\u001b[0;34m:\u001b[0m\u001b[0;34m\u001b[0m\u001b[0m\n\u001b[1;32m    253\u001b[0m                 \u001b[0;32mif\u001b[0m \u001b[0mlist\u001b[0m\u001b[0;34m(\u001b[0m\u001b[0mdata\u001b[0m\u001b[0;34m[\u001b[0m\u001b[0mcol\u001b[0m\u001b[0;34m]\u001b[0m\u001b[0;34m.\u001b[0m\u001b[0mcat\u001b[0m\u001b[0;34m.\u001b[0m\u001b[0mcategories\u001b[0m\u001b[0;34m)\u001b[0m \u001b[0;34m!=\u001b[0m \u001b[0mlist\u001b[0m\u001b[0;34m(\u001b[0m\u001b[0mcategory\u001b[0m\u001b[0;34m)\u001b[0m\u001b[0;34m:\u001b[0m\u001b[0;34m\u001b[0m\u001b[0m\n",
      "\u001b[0;31mValueError\u001b[0m: train and valid dataset categorical_feature do not match."
     ]
    }
   ],
   "source": [
    "y_pred_submit = model.predict(submit_data_drop)"
   ]
  },
  {
   "cell_type": "markdown",
   "metadata": {},
   "source": [
    "ラベルのユニーク数が一致してないといけないのは、「buildeing_id, meter, site_id」の3つ"
   ]
  },
  {
   "cell_type": "code",
   "execution_count": 31,
   "metadata": {},
   "outputs": [
    {
     "data": {
      "text/plain": [
       "month                  12\n",
       "day                    31\n",
       "hour                   24\n",
       "building_id           743\n",
       "meter                   3\n",
       "site_id                 6\n",
       "primary_use            15\n",
       "square_feet           705\n",
       "year_built            110\n",
       "floor_count            15\n",
       "air_temperature       264\n",
       "cloud_coverage          6\n",
       "dew_temperature       230\n",
       "precip_depth_1_hr      37\n",
       "sea_level_pressure    389\n",
       "wind_direction         37\n",
       "wind_speed             32\n",
       "dtype: int64"
      ]
     },
     "execution_count": 31,
     "metadata": {},
     "output_type": "execute_result"
    }
   ],
   "source": [
    "x_train.nunique()"
   ]
  },
  {
   "cell_type": "code",
   "execution_count": 32,
   "metadata": {},
   "outputs": [
    {
     "data": {
      "text/plain": [
       "month                  12\n",
       "day                    31\n",
       "hour                   24\n",
       "building_id           793\n",
       "meter                   4\n",
       "site_id                11\n",
       "primary_use            15\n",
       "square_feet           783\n",
       "year_built             74\n",
       "floor_count            12\n",
       "air_temperature       497\n",
       "cloud_coverage         10\n",
       "dew_temperature       461\n",
       "precip_depth_1_hr      86\n",
       "sea_level_pressure    544\n",
       "wind_direction         38\n",
       "wind_speed             43\n",
       "dtype: int64"
      ]
     },
     "execution_count": 32,
     "metadata": {},
     "output_type": "execute_result"
    }
   ],
   "source": [
    "submit_data_drop.nunique()"
   ]
  },
  {
   "cell_type": "code",
   "execution_count": null,
   "metadata": {},
   "outputs": [],
   "source": []
  }
 ],
 "metadata": {
  "kernelspec": {
   "display_name": "Python 3",
   "language": "python",
   "name": "python3"
  },
  "language_info": {
   "codemirror_mode": {
    "name": "ipython",
    "version": 3
   },
   "file_extension": ".py",
   "mimetype": "text/x-python",
   "name": "python",
   "nbconvert_exporter": "python",
   "pygments_lexer": "ipython3",
   "version": "3.6.3"
  }
 },
 "nbformat": 4,
 "nbformat_minor": 2
}
