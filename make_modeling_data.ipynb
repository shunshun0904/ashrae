{
 "cells": [
  {
   "cell_type": "code",
   "execution_count": 1,
   "metadata": {},
   "outputs": [],
   "source": [
    "import pandas as pd\n",
    "import numpy as np\n",
    "import matplotlib.pyplot as plt"
   ]
  },
  {
   "cell_type": "code",
   "execution_count": 2,
   "metadata": {},
   "outputs": [],
   "source": [
    "#weather_data = pd.read_csv(\"weather_augment.csv\")\n",
    "#weather_data[\"timestamp\"] = weather_data[\"timestamp\"].astype(\"datetime64\")\n",
    "weather_test = pd.read_csv(\"weather_test.csv\")\n",
    "weather_test[\"timestamp\"] = weather_test[\"timestamp\"].astype(\"datetime64\")\n",
    "#train_data = pd.read_csv(\"train.csv\")\n",
    "#train_data[\"timestamp\"] = train_data[\"timestamp\"].astype(\"datetime64\")\n",
    "test_data = pd.read_csv(\"test.csv\")\n",
    "test_data[\"timestamp\"] = test_data[\"timestamp\"].astype(\"datetime64\")\n",
    "build_data = pd.read_csv(\"building_metadata.csv\")"
   ]
  },
  {
   "cell_type": "code",
   "execution_count": 83,
   "metadata": {},
   "outputs": [],
   "source": [
    "train_build = pd.merge(train_data, build_data, on=\"building_id\", how=\"inner\")\n",
    "train_build_weather = pd.merge(train_build, weather_data, on=[\"site_id\",\"timestamp\"], how=\"inner\")"
   ]
  },
  {
   "cell_type": "markdown",
   "metadata": {},
   "source": [
    "mergeした後に増える意味がわからない"
   ]
  },
  {
   "cell_type": "code",
   "execution_count": 10,
   "metadata": {},
   "outputs": [],
   "source": [
    "train_data_xy = train_build_weather[train_build_weather.columns[train_build_weather.columns != 'Unnamed: 0']]"
   ]
  },
  {
   "cell_type": "code",
   "execution_count": 11,
   "metadata": {},
   "outputs": [],
   "source": [
    "train_data_xy[\"timestamp_convert\"] = pd.to_datetime(train_data_xy[\"timestamp\"], format='%Y%m%d %H:%M')\n",
    "train_data_xy = train_data_xy.set_index(\"timestamp_convert\") "
   ]
  },
  {
   "cell_type": "code",
   "execution_count": 12,
   "metadata": {},
   "outputs": [],
   "source": [
    "train_data_xy = train_data_xy.drop(\"timestamp\", axis=1)"
   ]
  },
  {
   "cell_type": "code",
   "execution_count": 13,
   "metadata": {},
   "outputs": [],
   "source": [
    "train_data_xy = train_data_xy.set_index([train_data_xy.index.month, train_data_xy.index.day, train_data_xy.index.hour])\n",
    "train_data_xy.index.names = [\"month\", 'day', \"hour\"]"
   ]
  },
  {
   "cell_type": "code",
   "execution_count": 14,
   "metadata": {},
   "outputs": [],
   "source": [
    "train_data_xy = train_data_xy.reset_index()"
   ]
  },
  {
   "cell_type": "markdown",
   "metadata": {},
   "source": [
    "## トレインとバリッド、テストに分割\n",
    "分割する際には、層別サンプリングを行う。テストとトレインで分布が似ている特徴量(メーターの種類)と目的変数"
   ]
  },
  {
   "cell_type": "code",
   "execution_count": 17,
   "metadata": {},
   "outputs": [
    {
     "data": {
      "image/png": "[encoded data removed]",
      "text/plain": [
       "<matplotlib.figure.Figure at 0x1857e9208>"
      ]
     },
     "metadata": {},
     "output_type": "display_data"
    }
   ],
   "source": [
    "train_data_xy[\"meter_reading\"].hist(bins=100)\n",
    "plt.show()"
   ]
  },
  {
   "cell_type": "code",
   "execution_count": 18,
   "metadata": {},
   "outputs": [
    {
     "data": {
      "text/plain": [
       "184460"
      ]
     },
     "execution_count": 18,
     "metadata": {},
     "output_type": "execute_result"
    }
   ],
   "source": [
    "train_data_xy[\"meter_reading\"].nunique()"
   ]
  },
  {
   "cell_type": "markdown",
   "metadata": {},
   "source": [
    "ユニーク数が多すぎるので、この数をそのままラベルにすることはできない。"
   ]
  },
  {
   "cell_type": "code",
   "execution_count": 19,
   "metadata": {},
   "outputs": [],
   "source": [
    "bins_boundary = [-0.001, 0,15,38,75,135,300,10000]\n",
    "labels=[\"0\", \"1\", \"2\", \"3\", \"4\" ,\"5\", \"6\"]"
   ]
  },
  {
   "cell_type": "code",
   "execution_count": 20,
   "metadata": {},
   "outputs": [],
   "source": [
    "train_data_xy[\"meter_reading_rank\"] = pd.cut(train_data_xy[\"meter_reading\"], bins=bins_boundary, labels=labels)"
   ]
  },
  {
   "cell_type": "code",
   "execution_count": 21,
   "metadata": {},
   "outputs": [
    {
     "data": {
      "text/plain": [
       "0    3587536\n",
       "2    3327136\n",
       "5    3139760\n",
       "1    3111520\n",
       "6    3083936\n",
       "3    3075664\n",
       "4    2954384\n",
       "Name: meter_reading_rank, dtype: int64"
      ]
     },
     "execution_count": 21,
     "metadata": {},
     "output_type": "execute_result"
    }
   ],
   "source": [
    "train_data_xy[\"meter_reading_rank\"].value_counts()"
   ]
  },
  {
   "cell_type": "code",
   "execution_count": 22,
   "metadata": {},
   "outputs": [],
   "source": [
    "from sklearn.model_selection import train_test_split\n",
    "#train, test = train_test_split(train_data_xy, test_size=0.3, random_state=100,\n",
    "#                                                    stratify=train_data_xy[[\"building_id\", \"meter\", \"meter_reading_rank\"]])\n",
    "train, test = train_test_split(train_data_xy, test_size=0.3, random_state=100,\n",
    "                                                    stratify=train_data_xy[\"meter_reading_rank\"])\n",
    "\n",
    "\n",
    "#valid, test_final = train_test_split(test, test_size=0.5, random_state=100,\n",
    "#                                                    stratify=test[[\"building_id\", \"meter\", \"meter_reading_rank\"]])\n",
    "valid, test_final = train_test_split(test, test_size=0.5, random_state=100,\n",
    "                                                    stratify=test[\"meter_reading_rank\"])"
   ]
  },
  {
   "cell_type": "code",
   "execution_count": 25,
   "metadata": {},
   "outputs": [
    {
     "data": {
      "text/plain": [
       "month                     12\n",
       "day                       31\n",
       "hour                      24\n",
       "building_id              743\n",
       "meter                      3\n",
       "meter_reading         184460\n",
       "site_id                    6\n",
       "primary_use               15\n",
       "square_feet              705\n",
       "year_built               110\n",
       "floor_count               15\n",
       "air_temperature          264\n",
       "cloud_coverage             6\n",
       "dew_temperature          230\n",
       "precip_depth_1_hr         37\n",
       "sea_level_pressure       389\n",
       "wind_direction            37\n",
       "wind_speed                32\n",
       "meter_reading_rank         7\n",
       "dtype: int64"
      ]
     },
     "execution_count": 25,
     "metadata": {},
     "output_type": "execute_result"
    }
   ],
   "source": [
    "train_data_xy.nunique()"
   ]
  },
  {
   "cell_type": "markdown",
   "metadata": {},
   "source": [
    "## データをcsvとして保存する。"
   ]
  },
  {
   "cell_type": "code",
   "execution_count": 109,
   "metadata": {},
   "outputs": [],
   "source": [
    "train = train.drop(\"meter_reading_rank\", axis=1)\n",
    "valid = valid.drop(\"meter_reading_rank\", axis=1)\n",
    "test_final = test_final.drop(\"meter_reading_rank\", axis=1)"
   ]
  },
  {
   "cell_type": "code",
   "execution_count": 110,
   "metadata": {},
   "outputs": [],
   "source": [
    "train.to_csv(\"train_modeling.csv\")\n",
    "valid.to_csv(\"valid_modeling.csv\")\n",
    "test_final.to_csv(\"test_modeling.csv\")"
   ]
  },
  {
   "cell_type": "markdown",
   "metadata": {},
   "source": [
    "## テストデータを作成するための関数を作成"
   ]
  },
  {
   "cell_type": "code",
   "execution_count": 3,
   "metadata": {},
   "outputs": [],
   "source": [
    "def convert_type(data):\n",
    "    for c in data.columns:\n",
    "        col_type = data[c].dtype\n",
    "        if col_type.name == 'float':\n",
    "            data[c] = data[c].astype('float16')\n",
    "        if col_type.name == 'int':\n",
    "            data[c] = data[c].astype('int8')\n",
    "    return data"
   ]
  },
  {
   "cell_type": "code",
   "execution_count": 4,
   "metadata": {},
   "outputs": [],
   "source": [
    "def make_modeling(data, build_data, weather_data):\n",
    "    data = convert_type(data)\n",
    "    build_data = convert_type(build_data)\n",
    "    weather_data = convert_type(weather_data)\n",
    "    data_build = pd.merge(data, build_data, on=\"building_id\", how=\"inner\")\n",
    "    data_build_weather = pd.merge(data_build, weather_data, on=[\"site_id\",\"timestamp\"], how=\"inner\")\n",
    "    data_xy = data_build_weather[data_build_weather.columns[data_build_weather.columns != 'Unnamed: 0']]\n",
    "    data_xy[\"timestamp_convert\"] = pd.to_datetime(data_xy[\"timestamp\"], format='%Y%m%d %H:%M')\n",
    "    data_xy = data_xy.set_index(\"timestamp_convert\") \n",
    "    data_xy = data_xy.drop(\"timestamp\", axis=1)\n",
    "    data_xy = data_xy.set_index([data_xy.index.month, data_xy.index.day, data_xy.index.hour])\n",
    "    data_xy.index.names = [\"month\", 'day', \"hour\"]\n",
    "    data_xy = data_xy.reset_index()\n",
    "    return data_xy"
   ]
  },
  {
   "cell_type": "code",
   "execution_count": 4,
   "metadata": {},
   "outputs": [],
   "source": [
    "test_data = convert_type(test_data)\n",
    "build_data = convert_type(build_data)\n",
    "weather_test = convert_type(weather_test)"
   ]
  },
  {
   "cell_type": "code",
   "execution_count": 5,
   "metadata": {},
   "outputs": [],
   "source": [
    "test_build = pd.merge(test_data, build_data, on=\"building_id\", how=\"inner\")"
   ]
  },
  {
   "cell_type": "code",
   "execution_count": 14,
   "metadata": {},
   "outputs": [
    {
     "data": {
      "text/plain": [
       "row_id         41697600\n",
       "building_id        1449\n",
       "meter                 4\n",
       "timestamp         17520\n",
       "site_id              16\n",
       "primary_use          16\n",
       "square_feet        1397\n",
       "year_built          116\n",
       "floor_count          18\n",
       "dtype: int64"
      ]
     },
     "execution_count": 14,
     "metadata": {},
     "output_type": "execute_result"
    }
   ],
   "source": [
    "test_build.nunique()"
   ]
  },
  {
   "cell_type": "code",
   "execution_count": 6,
   "metadata": {},
   "outputs": [
    {
     "data": {
      "text/plain": [
       "(41697600, 9)"
      ]
     },
     "execution_count": 6,
     "metadata": {},
     "output_type": "execute_result"
    }
   ],
   "source": [
    "test_build.shape"
   ]
  },
  {
   "cell_type": "markdown",
   "metadata": {},
   "source": [
    "一旦、各\"row_id\"から一つずつサンプリングすることにする。"
   ]
  },
  {
   "cell_type": "code",
   "execution_count": null,
   "metadata": {},
   "outputs": [],
   "source": [
    "data_build_weather = pd.merge(test_build, weather_test, on=[\"site_id\",\"timestamp\"], how=\"inner\")"
   ]
  },
  {
   "cell_type": "code",
   "execution_count": null,
   "metadata": {},
   "outputs": [],
   "source": [
    "data_build_weather.nunique()"
   ]
  },
  {
   "cell_type": "code",
   "execution_count": 13,
   "metadata": {},
   "outputs": [
    {
     "data": {
      "text/plain": [
       "site_id                  16\n",
       "timestamp             17520\n",
       "air_temperature         639\n",
       "cloud_coverage           10\n",
       "dew_temperature         559\n",
       "precip_depth_1_hr       174\n",
       "sea_level_pressure      717\n",
       "wind_direction           60\n",
       "wind_speed               78\n",
       "dtype: int64"
      ]
     },
     "execution_count": 13,
     "metadata": {},
     "output_type": "execute_result"
    }
   ],
   "source": [
    "weather_test.nunique()"
   ]
  },
  {
   "cell_type": "markdown",
   "metadata": {},
   "source": [
    "- 天気情報は、730日×24時間分のユニーク数はあるが、全てのsite_idに対して730日×24時間分のデータがあるかどうかは不明\n",
    "- ビルの数とメーターの種類の組み合わせ数は2380組み"
   ]
  },
  {
   "cell_type": "code",
   "execution_count": null,
   "metadata": {},
   "outputs": [],
   "source": [
    "data_build_weather.nunique()"
   ]
  },
  {
   "cell_type": "code",
   "execution_count": 50,
   "metadata": {},
   "outputs": [],
   "source": [
    "id_count = pd.DataFrame(data_build_weather[\"row_id\"].value_counts())"
   ]
  },
  {
   "cell_type": "code",
   "execution_count": 51,
   "metadata": {},
   "outputs": [],
   "source": [
    "count_1 = list(id_count[id_count[\"row_id\"]==1].index)"
   ]
  },
  {
   "cell_type": "code",
   "execution_count": 52,
   "metadata": {},
   "outputs": [],
   "source": [
    "count_other = list(id_count[id_count[\"row_id\"]!=1].index)"
   ]
  },
  {
   "cell_type": "code",
   "execution_count": 53,
   "metadata": {},
   "outputs": [],
   "source": [
    "data_build_weather_count1 = data_build_weather[data_build_weather[\"row_id\"].isin(count_1)]"
   ]
  },
  {
   "cell_type": "code",
   "execution_count": 54,
   "metadata": {},
   "outputs": [],
   "source": [
    "data_build_weather_count_other = data_build_weather[data_build_weather[\"row_id\"].isin(count_other)]"
   ]
  },
  {
   "cell_type": "code",
   "execution_count": 55,
   "metadata": {},
   "outputs": [],
   "source": [
    "data_build_weather_count_other_unique = data_build_weather_count_other[~data_build_weather_count_other.duplicated(subset=[\"row_id\", \"building_id\", \"meter\", \"timestamp\", \"site_id\"], keep='last')]"
   ]
  },
  {
   "cell_type": "code",
   "execution_count": 56,
   "metadata": {},
   "outputs": [],
   "source": [
    "data_concat = pd.concat([data_build_weather_count1,data_build_weather_count_other_unique], axis=0) "
   ]
  },
  {
   "cell_type": "code",
   "execution_count": 57,
   "metadata": {},
   "outputs": [],
   "source": [
    "data_xy = data_concat[data_concat.columns[data_concat.columns != 'Unnamed: 0']]"
   ]
  },
  {
   "cell_type": "code",
   "execution_count": 59,
   "metadata": {},
   "outputs": [],
   "source": [
    "data_xy = data_xy.set_index(\"timestamp\") "
   ]
  },
  {
   "cell_type": "code",
   "execution_count": 60,
   "metadata": {},
   "outputs": [],
   "source": [
    "data_xy = data_xy.set_index([data_xy.index.month, data_xy.index.day, data_xy.index.hour])"
   ]
  },
  {
   "cell_type": "code",
   "execution_count": 61,
   "metadata": {},
   "outputs": [],
   "source": [
    "data_xy.index.names = [\"month\", 'day', \"hour\"]"
   ]
  },
  {
   "cell_type": "code",
   "execution_count": 62,
   "metadata": {},
   "outputs": [],
   "source": [
    "data_xy = data_xy.reset_index()"
   ]
  },
  {
   "cell_type": "code",
   "execution_count": 75,
   "metadata": {},
   "outputs": [],
   "source": [
    "data_xy_fill = data_xy.fillna(method=\"ffill\")"
   ]
  },
  {
   "cell_type": "code",
   "execution_count": 76,
   "metadata": {},
   "outputs": [],
   "source": [
    "data_xy_fill2 = data_xy_fill.fillna(method=\"backfill\")"
   ]
  },
  {
   "cell_type": "code",
   "execution_count": 79,
   "metadata": {},
   "outputs": [],
   "source": [
    "data_xy_fill2.to_csv(\"submit_test.csv\")"
   ]
  },
  {
   "cell_type": "code",
   "execution_count": 63,
   "metadata": {},
   "outputs": [
    {
     "data": {
      "text/plain": [
       "1449"
      ]
     },
     "execution_count": 63,
     "metadata": {},
     "output_type": "execute_result"
    }
   ],
   "source": [
    "test_data[\"building_id\"].nunique()"
   ]
  },
  {
   "cell_type": "code",
   "execution_count": 78,
   "metadata": {},
   "outputs": [
    {
     "data": {
      "text/plain": [
       "month                      12\n",
       "day                        31\n",
       "hour                       24\n",
       "row_id                2471700\n",
       "building_id               793\n",
       "meter                       4\n",
       "site_id                    11\n",
       "primary_use                16\n",
       "square_feet               783\n",
       "year_built                 74\n",
       "floor_count                12\n",
       "air_temperature           497\n",
       "cloud_coverage             10\n",
       "dew_temperature           461\n",
       "precip_depth_1_hr          86\n",
       "sea_level_pressure        544\n",
       "wind_direction             38\n",
       "wind_speed                 43\n",
       "dtype: int64"
      ]
     },
     "execution_count": 78,
     "metadata": {},
     "output_type": "execute_result"
    }
   ],
   "source": [
    "data_xy_fill2.nunique()"
   ]
  }
 ],
 "metadata": {
  "kernelspec": {
   "display_name": "Python 3",
   "language": "python",
   "name": "python3"
  },
  "language_info": {
   "codemirror_mode": {
    "name": "ipython",
    "version": 3
   },
   "file_extension": ".py",
   "mimetype": "text/x-python",
   "name": "python",
   "nbconvert_exporter": "python",
   "pygments_lexer": "ipython3",
   "version": "3.6.3"
  }
 },
 "nbformat": 4,
 "nbformat_minor": 2
}
